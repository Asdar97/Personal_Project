{
 "cells": [
  {
   "cell_type": "code",
   "execution_count": 1,
   "metadata": {},
   "outputs": [],
   "source": [
    "import numpy as np\n",
    "import pandas as pd\n",
    "import seaborn as sns\n",
    "import matplotlib.pyplot as plt\n",
    "import statistics"
   ]
  },
  {
   "cell_type": "code",
   "execution_count": 2,
   "metadata": {},
   "outputs": [],
   "source": [
    "#Average number of household/acre\n",
    "avg_household_per_acre = 10\n",
    "acres_in_catchment_area = 1800\n",
    "avg_household = 18000\n",
    "\n",
    "#Prices of Edukator only caters to the middle-income group\n",
    "#20% of the population in KL Sentral belongs to the middle income group\n",
    "mid_income = 0.2*avg_household\n",
    "\n",
    "#1 in 2 of middle income household have kids\n",
    "mid_income_kids = 0.5*mid_income\n",
    "\n",
    "#Average kid per family in Malaysia\n",
    "average_kid = 2\n",
    "\n",
    "#50% of middle income household are in primary school and 50% in secondary school\n",
    "mid_primary = 0.5*mid_income_kids*average_kid\n",
    "mid_secondary = 0.5*mid_income_kids*average_kid\n",
    "\n",
    "#There are 10 schools around KL Sentral\n",
    "school = 10\n",
    "\n",
    "#70% of schools in KL sentral are primary schools and the balance - secondary schools\n",
    "primary_school = 0.7*school\n",
    "secondary_school = school - primary_school\n",
    "\n",
    "#There are 1 month of holidays annually\n",
    "month = 12\n",
    "month_holidays = 1\n",
    "month_xholidays = month - month_holidays\n",
    "\n",
    "#There are 2 other competitors (Highflyer , Intelligent) also operating in KL Sentral area\n",
    "competitors = 2\n",
    "\n",
    "#2 hours of lessons per subject per week for both primary and secondary school students\n",
    "lesson_time = 2\n",
    "\n",
    "#Charges for lesson\n",
    "chrge_primary = 5\n",
    "chrge_secondary = 10\n",
    "\n",
    "#Estimated total core subject in school\n",
    "subject_primary = 4\n",
    "subject_secondary = 9"
   ]
  },
  {
   "cell_type": "code",
   "execution_count": 3,
   "metadata": {},
   "outputs": [],
   "source": [
    "def information():\n",
    "    data = {'Information':['Average houshold around KL Sentral', 'Average population of middle income group in KL Sentral',\n",
    "                           'Average middle income household have kids', 'Average kid per family in Malaysia',\n",
    "                           'Average middle income household kids in primary school','Average middle income household kids in secondary school', \n",
    "                           'Total school around KL Sentral','Total primary school around KL Sentral', \n",
    "                           'Total secondary school around KL Sentral', 'Total competitors operating in KL Sentral area', \n",
    "                           'Lesson time per subject per week (hours)', 'Charge per hour for primary class ($)', \n",
    "                           'Charge per hour for secondary class ($)', 'Total core subjects for primary school', \n",
    "                           'Total core subjects for secondary school'],\n",
    "            'Variable':['avg_household', 'mid_income', 'mid_income_kids', 'average_kid','mid_primary', 'mid_secondary', \n",
    "                        'school', 'primary_school', 'secondary_school', 'competitors', 'lesson_time', 'chrge_primary', \n",
    "                        'chrge_secondary', 'subject_primary', 'subject_secondary'],\n",
    "            'Value':[avg_household, mid_income, mid_income_kids, average_kid, mid_primary, mid_secondary, school, \n",
    "                     primary_school, secondary_school, competitors, lesson_time, chrge_primary, chrge_secondary, \n",
    "                     subject_primary, subject_secondary]}\n",
    "    df = pd.DataFrame(data)\n",
    "    df['Value'] = df['Value'].astype('int64')\n",
    "    df = df.style.set_properties(**{'text-align': 'left'})\n",
    "    df = df.set_table_styles([dict(selector = 'th', props=[('text-align', 'left')])])\n",
    "\n",
    "    return df"
   ]
  },
  {
   "cell_type": "code",
   "execution_count": 4,
   "metadata": {},
   "outputs": [],
   "source": [
    "#Assume market share are divided evenly with competitors\n",
    "#Assume student didnt take class during 1 month holidays\n",
    "#Estimated revenue if student taking tuition class for all core subjects\n",
    "weekly_revenue_max = (mid_primary*(subject_primary*chrge_primary*lesson_time)+mid_secondary*(subject_secondary*chrge_secondary*lesson_time))/(competitors+1)\n",
    "monthly_revenue_max = weekly_revenue_max*4\n",
    "annual_revenue_max = monthly_revenue_max*month_xholidays\n",
    "\n",
    "\n",
    "#Estimated revenue if student taking tuition class for half of core subjects\n",
    "weekly_revenue_half = (mid_primary*((subject_primary/2)*chrge_primary*lesson_time)+mid_secondary*((subject_secondary/2)*chrge_secondary*lesson_time))/(competitors+1)\n",
    "monthly_revenue_half = weekly_revenue_half*4\n",
    "annual_revenue_half = monthly_revenue_half*month_xholidays\n",
    "\n",
    "#Estimated revenue if student taking tuition class no more than 1 of core subjects\n",
    "weekly_revenue_min = (mid_primary*(1*chrge_primary*lesson_time)+mid_secondary*(1*chrge_secondary*lesson_time))/(competitors+1)\n",
    "monthly_revenue_min = weekly_revenue_min*4\n",
    "annual_revenue_min = monthly_revenue_min*month_xholidays"
   ]
  },
  {
   "cell_type": "code",
   "execution_count": 5,
   "metadata": {},
   "outputs": [],
   "source": [
    "def Estimate():\n",
    "    print('Assume market share are divided evenly with competitors (Highflyer , Intelligent)',\n",
    "          '\\nAssume student didnt take tuition class during 1 month holidays',\n",
    "         '\\n\\033[1m' + 'Core Subject', '\\033[0m', '\\nPrimary school:', subject_primary, '\\nSecondary school:', subject_secondary)\n",
    "    print('\\n\\033[1m' + 'Estimated Weekly Revenue', '\\033[0m',\n",
    "             '\\nIf student taking tuition class for all core subjects: $%d' %weekly_revenue_max,\n",
    "             '\\nIf student taking tuition class for half of core subjects: $%d' %weekly_revenue_half,\n",
    "             '\\nIf student taking tuition class no more than 1 core subjects: $%d' %weekly_revenue_min)\n",
    "    print('\\033[1m' + 'Estimated Monthly Revenue', '\\033[0m',\n",
    "             '\\nIf student taking tuition class for all core subjects: $%d' %monthly_revenue_max,\n",
    "             '\\nIf student taking tuition class for half of core subjects: $%d' %monthly_revenue_half,\n",
    "             '\\nIf student taking tuition class no more than 1 core subjects: $%d' %monthly_revenue_min)\n",
    "    print('\\033[1m' + 'Estimated Annual Revenue', '\\033[0m',\n",
    "             '\\nIf student taking tuition class for all core subjects: $%d' %annual_revenue_max,\n",
    "             '\\nIf student taking tuition class for half of core subjects: $%d' %annual_revenue_half,\n",
    "             '\\nIf student taking tuition class no more than 1 core subjects: $%d' %annual_revenue_min)\n",
    "    return"
   ]
  },
  {
   "cell_type": "code",
   "execution_count": 6,
   "metadata": {},
   "outputs": [],
   "source": [
    "def visualize():\n",
    "    data = {'Period':['Weekly', 'Weekly', 'Weekly', 'Monthly', 'Monthly', 'Monthly', 'Annually', 'Annually', 'Annually'],\n",
    "            'Core Subject Taken':['No more than 1','Half of subjects','All subjects',\n",
    "                          'No more than 1','Half of subjects','All subjects',\n",
    "                          'No more than 1','Half of subjects','All subjects'],\n",
    "            'Revenue':[weekly_revenue_min,weekly_revenue_half,weekly_revenue_max,monthly_revenue_min,monthly_revenue_half, \n",
    "                       monthly_revenue_max,annual_revenue_min,annual_revenue_half,annual_revenue_max]}\n",
    "    df = pd.DataFrame(data)\n",
    "    sns.catplot(x=\"Period\",\n",
    "                y=\"Revenue\",\n",
    "                hue=\"Core Subject Taken\",\n",
    "                kind=\"bar\",\n",
    "                data=df)\n",
    "    plt.ticklabel_format(style='plain', axis='y')\n",
    "    return"
   ]
  },
  {
   "cell_type": "code",
   "execution_count": 7,
   "metadata": {},
   "outputs": [],
   "source": [
    "avg_price_per_hour = [8,6,7,8,10,10]\n",
    "list_mean = statistics.mean(avg_price_per_hour)\n",
    "list_median = statistics.median(avg_price_per_hour)\n",
    "list_max = max(avg_price_per_hour)\n",
    "list_min = min(avg_price_per_hour)\n",
    "list_std = statistics.stdev(avg_price_per_hour)\n",
    "list_var = np.var(avg_price_per_hour)"
   ]
  },
  {
   "cell_type": "code",
   "execution_count": 8,
   "metadata": {},
   "outputs": [],
   "source": [
    "def classrooms():\n",
    "    df = pd.read_csv('class.csv')\n",
    "    df.set_index('Day')\n",
    "    sns.catplot(col=\"Day\", kind=\"bar\", data=df, col_wrap=3, height=6)\n",
    "    return"
   ]
  },
  {
   "cell_type": "code",
   "execution_count": 9,
   "metadata": {},
   "outputs": [],
   "source": [
    "#With a discount rate of 4% you can capture 80% of the market\n",
    "discount_rate = 0.04\n",
    "market_share = 0.80\n",
    "\n",
    "#new charge per hour after discount\n",
    "new_chrge_primary = chrge_primary - 0.04*chrge_primary\n",
    "new_chrge_secondary = chrge_secondary - 0.04*chrge_secondary\n",
    "\n",
    "#new annual revenue without competitors (100% market share)\n",
    "new_annual_min = (mid_primary*(1*new_chrge_primary*lesson_time)+mid_secondary*(1*new_chrge_secondary*lesson_time))*4*11\n",
    "new_annual_half = (mid_primary*((subject_primary/2)*new_chrge_primary*lesson_time)+mid_secondary*((subject_secondary/2)*new_chrge_secondary*lesson_time))*4*11\n",
    "new_annual_max = (mid_primary*(subject_primary*new_chrge_primary*lesson_time)+mid_secondary*(subject_secondary*new_chrge_secondary*lesson_time))*4*11\n",
    "\n",
    "#Annual revenue for Edukator after discount(80% of market share)\n",
    "Edukator_rev_min = 0.8*new_annual_min\n",
    "Edukator_rev_half = 0.8*new_annual_half\n",
    "Edukator_rev_max = 0.8*new_annual_max"
   ]
  },
  {
   "cell_type": "code",
   "execution_count": 10,
   "metadata": {},
   "outputs": [],
   "source": [
    "def discount():\n",
    "    print('\\033[1m' + 'New charge per hour after discount 4% ($)', '\\033[0m',\n",
    "         '\\nPrimary School: %.2f' %new_chrge_primary,\n",
    "         '\\nSecondary School: %.2f' %new_chrge_secondary)\n",
    "    \n",
    "    print('\\n\\033[1m' + 'The Present Revenue Value of Edukator KL Sentral (80 percent market share)', '\\033[0m',\n",
    "     '\\nIf student taking tuition class for all core subjects: $%d' %Edukator_rev_max,\n",
    "     '\\nIf student taking tuition class for half of core subjects: $%d' %Edukator_rev_half,\n",
    "     '\\nif student taking tuition class no more than 1 core subjects: $%d' %Edukator_rev_min)\n",
    "    \n",
    "    data = {'Core Subject Taken':['No more than 1', 'Half', 'All'],\n",
    "            'Revenue ($)':[Edukator_rev_min, Edukator_rev_half, Edukator_rev_max]}\n",
    "    df = pd.DataFrame(data)\n",
    "    sns.catplot(x=\"Core Subject Taken\",\n",
    "                y=\"Revenue ($)\",\n",
    "                kind=\"bar\",\n",
    "                data=df)\n",
    "    plt.title(\"Estimated Annual Revenue After Discount\\n (80% market share)\")\n",
    "    plt.ticklabel_format(style='plain', axis='y')\n",
    "    return"
   ]
  },
  {
   "cell_type": "code",
   "execution_count": 11,
   "metadata": {},
   "outputs": [],
   "source": [
    "#Assume the investment to build a new tuition centre is $120M\n",
    "investment = 120000000\n",
    "\n",
    "#Max annual Revenue from question 3\n",
    "Edukator_rev_max\n",
    "\n",
    "#Breakeven time\n",
    "breakeven_time = investment/Edukator_rev_max"
   ]
  },
  {
   "cell_type": "code",
   "execution_count": 12,
   "metadata": {},
   "outputs": [],
   "source": [
    "def breakeven():\n",
    "    print('Investment to build a new tuition centre: $%d' %investment,\n",
    "          '\\nAnnual Revenue of Edukator: $%d \\n(Based on answer in question 3)' %Edukator_rev_max,\n",
    "          '\\n\\033[1m' + '\\nThe breakeven time for this investment based on the annual revenue is %.2f years or approximately %.0f years.' %(breakeven_time,breakeven_time))\n",
    "    return"
   ]
  },
  {
   "cell_type": "markdown",
   "metadata": {},
   "source": [
    "## CASE STUDY\n",
    "#### Situation:\n",
    "A local tuition center called Edukator provides tuition services within Kajang. They are interested\n",
    "in expanding their business by setting up a new branch in a new location around KL Sentral.\n",
    "The objective of this is to increase the total profit of Edukator.\n",
    "Here are some additional information that you might find useful :\n",
    "\n",
    "● There are 10 schools around KL Sentral <br>\n",
    "● 70% of schools in KL sentral are primary schools and the balance - secondary schools <br>\n",
    "● On average, there are 50% male and 50% female in each school <br>\n",
    "● There are 1 month of holidays annually <br>\n",
    "● Prices of Edukator only caters to the middle-income group <br>\n",
    "● 50% of middle income household are in primary school and 50% in secondary school <br>\n",
    "● There are 2 other competitors (Highflyer , Intelligent) also operating in KL Sentral area <br>\n",
    "● 1 in 2 of middle income household have kids <br>\n",
    "● 2 hours of lessons per subject per week for both primary and secondary school students <br>\n",
    "● 20% of the population in KL Sentral belongs to the middle income group <br>"
   ]
  },
  {
   "cell_type": "markdown",
   "metadata": {},
   "source": [
    "## Information"
   ]
  },
  {
   "cell_type": "code",
   "execution_count": 13,
   "metadata": {},
   "outputs": [
    {
     "data": {
      "text/html": [
       "<style  type=\"text/css\" >\n",
       "    #T_f71bae8c_4d58_11ec_a18c_28c2dd0cc43a th {\n",
       "          text-align: left;\n",
       "    }    #T_f71bae8c_4d58_11ec_a18c_28c2dd0cc43arow0_col0 {\n",
       "            text-align:  left;\n",
       "        }    #T_f71bae8c_4d58_11ec_a18c_28c2dd0cc43arow0_col1 {\n",
       "            text-align:  left;\n",
       "        }    #T_f71bae8c_4d58_11ec_a18c_28c2dd0cc43arow0_col2 {\n",
       "            text-align:  left;\n",
       "        }    #T_f71bae8c_4d58_11ec_a18c_28c2dd0cc43arow1_col0 {\n",
       "            text-align:  left;\n",
       "        }    #T_f71bae8c_4d58_11ec_a18c_28c2dd0cc43arow1_col1 {\n",
       "            text-align:  left;\n",
       "        }    #T_f71bae8c_4d58_11ec_a18c_28c2dd0cc43arow1_col2 {\n",
       "            text-align:  left;\n",
       "        }    #T_f71bae8c_4d58_11ec_a18c_28c2dd0cc43arow2_col0 {\n",
       "            text-align:  left;\n",
       "        }    #T_f71bae8c_4d58_11ec_a18c_28c2dd0cc43arow2_col1 {\n",
       "            text-align:  left;\n",
       "        }    #T_f71bae8c_4d58_11ec_a18c_28c2dd0cc43arow2_col2 {\n",
       "            text-align:  left;\n",
       "        }    #T_f71bae8c_4d58_11ec_a18c_28c2dd0cc43arow3_col0 {\n",
       "            text-align:  left;\n",
       "        }    #T_f71bae8c_4d58_11ec_a18c_28c2dd0cc43arow3_col1 {\n",
       "            text-align:  left;\n",
       "        }    #T_f71bae8c_4d58_11ec_a18c_28c2dd0cc43arow3_col2 {\n",
       "            text-align:  left;\n",
       "        }    #T_f71bae8c_4d58_11ec_a18c_28c2dd0cc43arow4_col0 {\n",
       "            text-align:  left;\n",
       "        }    #T_f71bae8c_4d58_11ec_a18c_28c2dd0cc43arow4_col1 {\n",
       "            text-align:  left;\n",
       "        }    #T_f71bae8c_4d58_11ec_a18c_28c2dd0cc43arow4_col2 {\n",
       "            text-align:  left;\n",
       "        }    #T_f71bae8c_4d58_11ec_a18c_28c2dd0cc43arow5_col0 {\n",
       "            text-align:  left;\n",
       "        }    #T_f71bae8c_4d58_11ec_a18c_28c2dd0cc43arow5_col1 {\n",
       "            text-align:  left;\n",
       "        }    #T_f71bae8c_4d58_11ec_a18c_28c2dd0cc43arow5_col2 {\n",
       "            text-align:  left;\n",
       "        }    #T_f71bae8c_4d58_11ec_a18c_28c2dd0cc43arow6_col0 {\n",
       "            text-align:  left;\n",
       "        }    #T_f71bae8c_4d58_11ec_a18c_28c2dd0cc43arow6_col1 {\n",
       "            text-align:  left;\n",
       "        }    #T_f71bae8c_4d58_11ec_a18c_28c2dd0cc43arow6_col2 {\n",
       "            text-align:  left;\n",
       "        }    #T_f71bae8c_4d58_11ec_a18c_28c2dd0cc43arow7_col0 {\n",
       "            text-align:  left;\n",
       "        }    #T_f71bae8c_4d58_11ec_a18c_28c2dd0cc43arow7_col1 {\n",
       "            text-align:  left;\n",
       "        }    #T_f71bae8c_4d58_11ec_a18c_28c2dd0cc43arow7_col2 {\n",
       "            text-align:  left;\n",
       "        }    #T_f71bae8c_4d58_11ec_a18c_28c2dd0cc43arow8_col0 {\n",
       "            text-align:  left;\n",
       "        }    #T_f71bae8c_4d58_11ec_a18c_28c2dd0cc43arow8_col1 {\n",
       "            text-align:  left;\n",
       "        }    #T_f71bae8c_4d58_11ec_a18c_28c2dd0cc43arow8_col2 {\n",
       "            text-align:  left;\n",
       "        }    #T_f71bae8c_4d58_11ec_a18c_28c2dd0cc43arow9_col0 {\n",
       "            text-align:  left;\n",
       "        }    #T_f71bae8c_4d58_11ec_a18c_28c2dd0cc43arow9_col1 {\n",
       "            text-align:  left;\n",
       "        }    #T_f71bae8c_4d58_11ec_a18c_28c2dd0cc43arow9_col2 {\n",
       "            text-align:  left;\n",
       "        }    #T_f71bae8c_4d58_11ec_a18c_28c2dd0cc43arow10_col0 {\n",
       "            text-align:  left;\n",
       "        }    #T_f71bae8c_4d58_11ec_a18c_28c2dd0cc43arow10_col1 {\n",
       "            text-align:  left;\n",
       "        }    #T_f71bae8c_4d58_11ec_a18c_28c2dd0cc43arow10_col2 {\n",
       "            text-align:  left;\n",
       "        }    #T_f71bae8c_4d58_11ec_a18c_28c2dd0cc43arow11_col0 {\n",
       "            text-align:  left;\n",
       "        }    #T_f71bae8c_4d58_11ec_a18c_28c2dd0cc43arow11_col1 {\n",
       "            text-align:  left;\n",
       "        }    #T_f71bae8c_4d58_11ec_a18c_28c2dd0cc43arow11_col2 {\n",
       "            text-align:  left;\n",
       "        }    #T_f71bae8c_4d58_11ec_a18c_28c2dd0cc43arow12_col0 {\n",
       "            text-align:  left;\n",
       "        }    #T_f71bae8c_4d58_11ec_a18c_28c2dd0cc43arow12_col1 {\n",
       "            text-align:  left;\n",
       "        }    #T_f71bae8c_4d58_11ec_a18c_28c2dd0cc43arow12_col2 {\n",
       "            text-align:  left;\n",
       "        }    #T_f71bae8c_4d58_11ec_a18c_28c2dd0cc43arow13_col0 {\n",
       "            text-align:  left;\n",
       "        }    #T_f71bae8c_4d58_11ec_a18c_28c2dd0cc43arow13_col1 {\n",
       "            text-align:  left;\n",
       "        }    #T_f71bae8c_4d58_11ec_a18c_28c2dd0cc43arow13_col2 {\n",
       "            text-align:  left;\n",
       "        }    #T_f71bae8c_4d58_11ec_a18c_28c2dd0cc43arow14_col0 {\n",
       "            text-align:  left;\n",
       "        }    #T_f71bae8c_4d58_11ec_a18c_28c2dd0cc43arow14_col1 {\n",
       "            text-align:  left;\n",
       "        }    #T_f71bae8c_4d58_11ec_a18c_28c2dd0cc43arow14_col2 {\n",
       "            text-align:  left;\n",
       "        }</style><table id=\"T_f71bae8c_4d58_11ec_a18c_28c2dd0cc43a\" ><thead>    <tr>        <th class=\"blank level0\" ></th>        <th class=\"col_heading level0 col0\" >Information</th>        <th class=\"col_heading level0 col1\" >Variable</th>        <th class=\"col_heading level0 col2\" >Value</th>    </tr></thead><tbody>\n",
       "                <tr>\n",
       "                        <th id=\"T_f71bae8c_4d58_11ec_a18c_28c2dd0cc43alevel0_row0\" class=\"row_heading level0 row0\" >0</th>\n",
       "                        <td id=\"T_f71bae8c_4d58_11ec_a18c_28c2dd0cc43arow0_col0\" class=\"data row0 col0\" >Average houshold around KL Sentral</td>\n",
       "                        <td id=\"T_f71bae8c_4d58_11ec_a18c_28c2dd0cc43arow0_col1\" class=\"data row0 col1\" >avg_household</td>\n",
       "                        <td id=\"T_f71bae8c_4d58_11ec_a18c_28c2dd0cc43arow0_col2\" class=\"data row0 col2\" >18000</td>\n",
       "            </tr>\n",
       "            <tr>\n",
       "                        <th id=\"T_f71bae8c_4d58_11ec_a18c_28c2dd0cc43alevel0_row1\" class=\"row_heading level0 row1\" >1</th>\n",
       "                        <td id=\"T_f71bae8c_4d58_11ec_a18c_28c2dd0cc43arow1_col0\" class=\"data row1 col0\" >Average population of middle income group in KL Sentral</td>\n",
       "                        <td id=\"T_f71bae8c_4d58_11ec_a18c_28c2dd0cc43arow1_col1\" class=\"data row1 col1\" >mid_income</td>\n",
       "                        <td id=\"T_f71bae8c_4d58_11ec_a18c_28c2dd0cc43arow1_col2\" class=\"data row1 col2\" >3600</td>\n",
       "            </tr>\n",
       "            <tr>\n",
       "                        <th id=\"T_f71bae8c_4d58_11ec_a18c_28c2dd0cc43alevel0_row2\" class=\"row_heading level0 row2\" >2</th>\n",
       "                        <td id=\"T_f71bae8c_4d58_11ec_a18c_28c2dd0cc43arow2_col0\" class=\"data row2 col0\" >Average middle income household have kids</td>\n",
       "                        <td id=\"T_f71bae8c_4d58_11ec_a18c_28c2dd0cc43arow2_col1\" class=\"data row2 col1\" >mid_income_kids</td>\n",
       "                        <td id=\"T_f71bae8c_4d58_11ec_a18c_28c2dd0cc43arow2_col2\" class=\"data row2 col2\" >1800</td>\n",
       "            </tr>\n",
       "            <tr>\n",
       "                        <th id=\"T_f71bae8c_4d58_11ec_a18c_28c2dd0cc43alevel0_row3\" class=\"row_heading level0 row3\" >3</th>\n",
       "                        <td id=\"T_f71bae8c_4d58_11ec_a18c_28c2dd0cc43arow3_col0\" class=\"data row3 col0\" >Average kid per family in Malaysia</td>\n",
       "                        <td id=\"T_f71bae8c_4d58_11ec_a18c_28c2dd0cc43arow3_col1\" class=\"data row3 col1\" >average_kid</td>\n",
       "                        <td id=\"T_f71bae8c_4d58_11ec_a18c_28c2dd0cc43arow3_col2\" class=\"data row3 col2\" >2</td>\n",
       "            </tr>\n",
       "            <tr>\n",
       "                        <th id=\"T_f71bae8c_4d58_11ec_a18c_28c2dd0cc43alevel0_row4\" class=\"row_heading level0 row4\" >4</th>\n",
       "                        <td id=\"T_f71bae8c_4d58_11ec_a18c_28c2dd0cc43arow4_col0\" class=\"data row4 col0\" >Average middle income household kids in primary school</td>\n",
       "                        <td id=\"T_f71bae8c_4d58_11ec_a18c_28c2dd0cc43arow4_col1\" class=\"data row4 col1\" >mid_primary</td>\n",
       "                        <td id=\"T_f71bae8c_4d58_11ec_a18c_28c2dd0cc43arow4_col2\" class=\"data row4 col2\" >1800</td>\n",
       "            </tr>\n",
       "            <tr>\n",
       "                        <th id=\"T_f71bae8c_4d58_11ec_a18c_28c2dd0cc43alevel0_row5\" class=\"row_heading level0 row5\" >5</th>\n",
       "                        <td id=\"T_f71bae8c_4d58_11ec_a18c_28c2dd0cc43arow5_col0\" class=\"data row5 col0\" >Average middle income household kids in secondary school</td>\n",
       "                        <td id=\"T_f71bae8c_4d58_11ec_a18c_28c2dd0cc43arow5_col1\" class=\"data row5 col1\" >mid_secondary</td>\n",
       "                        <td id=\"T_f71bae8c_4d58_11ec_a18c_28c2dd0cc43arow5_col2\" class=\"data row5 col2\" >1800</td>\n",
       "            </tr>\n",
       "            <tr>\n",
       "                        <th id=\"T_f71bae8c_4d58_11ec_a18c_28c2dd0cc43alevel0_row6\" class=\"row_heading level0 row6\" >6</th>\n",
       "                        <td id=\"T_f71bae8c_4d58_11ec_a18c_28c2dd0cc43arow6_col0\" class=\"data row6 col0\" >Total school around KL Sentral</td>\n",
       "                        <td id=\"T_f71bae8c_4d58_11ec_a18c_28c2dd0cc43arow6_col1\" class=\"data row6 col1\" >school</td>\n",
       "                        <td id=\"T_f71bae8c_4d58_11ec_a18c_28c2dd0cc43arow6_col2\" class=\"data row6 col2\" >10</td>\n",
       "            </tr>\n",
       "            <tr>\n",
       "                        <th id=\"T_f71bae8c_4d58_11ec_a18c_28c2dd0cc43alevel0_row7\" class=\"row_heading level0 row7\" >7</th>\n",
       "                        <td id=\"T_f71bae8c_4d58_11ec_a18c_28c2dd0cc43arow7_col0\" class=\"data row7 col0\" >Total primary school around KL Sentral</td>\n",
       "                        <td id=\"T_f71bae8c_4d58_11ec_a18c_28c2dd0cc43arow7_col1\" class=\"data row7 col1\" >primary_school</td>\n",
       "                        <td id=\"T_f71bae8c_4d58_11ec_a18c_28c2dd0cc43arow7_col2\" class=\"data row7 col2\" >7</td>\n",
       "            </tr>\n",
       "            <tr>\n",
       "                        <th id=\"T_f71bae8c_4d58_11ec_a18c_28c2dd0cc43alevel0_row8\" class=\"row_heading level0 row8\" >8</th>\n",
       "                        <td id=\"T_f71bae8c_4d58_11ec_a18c_28c2dd0cc43arow8_col0\" class=\"data row8 col0\" >Total secondary school around KL Sentral</td>\n",
       "                        <td id=\"T_f71bae8c_4d58_11ec_a18c_28c2dd0cc43arow8_col1\" class=\"data row8 col1\" >secondary_school</td>\n",
       "                        <td id=\"T_f71bae8c_4d58_11ec_a18c_28c2dd0cc43arow8_col2\" class=\"data row8 col2\" >3</td>\n",
       "            </tr>\n",
       "            <tr>\n",
       "                        <th id=\"T_f71bae8c_4d58_11ec_a18c_28c2dd0cc43alevel0_row9\" class=\"row_heading level0 row9\" >9</th>\n",
       "                        <td id=\"T_f71bae8c_4d58_11ec_a18c_28c2dd0cc43arow9_col0\" class=\"data row9 col0\" >Total competitors operating in KL Sentral area</td>\n",
       "                        <td id=\"T_f71bae8c_4d58_11ec_a18c_28c2dd0cc43arow9_col1\" class=\"data row9 col1\" >competitors</td>\n",
       "                        <td id=\"T_f71bae8c_4d58_11ec_a18c_28c2dd0cc43arow9_col2\" class=\"data row9 col2\" >2</td>\n",
       "            </tr>\n",
       "            <tr>\n",
       "                        <th id=\"T_f71bae8c_4d58_11ec_a18c_28c2dd0cc43alevel0_row10\" class=\"row_heading level0 row10\" >10</th>\n",
       "                        <td id=\"T_f71bae8c_4d58_11ec_a18c_28c2dd0cc43arow10_col0\" class=\"data row10 col0\" >Lesson time per subject per week (hours)</td>\n",
       "                        <td id=\"T_f71bae8c_4d58_11ec_a18c_28c2dd0cc43arow10_col1\" class=\"data row10 col1\" >lesson_time</td>\n",
       "                        <td id=\"T_f71bae8c_4d58_11ec_a18c_28c2dd0cc43arow10_col2\" class=\"data row10 col2\" >2</td>\n",
       "            </tr>\n",
       "            <tr>\n",
       "                        <th id=\"T_f71bae8c_4d58_11ec_a18c_28c2dd0cc43alevel0_row11\" class=\"row_heading level0 row11\" >11</th>\n",
       "                        <td id=\"T_f71bae8c_4d58_11ec_a18c_28c2dd0cc43arow11_col0\" class=\"data row11 col0\" >Charge per hour for primary class ($)</td>\n",
       "                        <td id=\"T_f71bae8c_4d58_11ec_a18c_28c2dd0cc43arow11_col1\" class=\"data row11 col1\" >chrge_primary</td>\n",
       "                        <td id=\"T_f71bae8c_4d58_11ec_a18c_28c2dd0cc43arow11_col2\" class=\"data row11 col2\" >5</td>\n",
       "            </tr>\n",
       "            <tr>\n",
       "                        <th id=\"T_f71bae8c_4d58_11ec_a18c_28c2dd0cc43alevel0_row12\" class=\"row_heading level0 row12\" >12</th>\n",
       "                        <td id=\"T_f71bae8c_4d58_11ec_a18c_28c2dd0cc43arow12_col0\" class=\"data row12 col0\" >Charge per hour for secondary class ($)</td>\n",
       "                        <td id=\"T_f71bae8c_4d58_11ec_a18c_28c2dd0cc43arow12_col1\" class=\"data row12 col1\" >chrge_secondary</td>\n",
       "                        <td id=\"T_f71bae8c_4d58_11ec_a18c_28c2dd0cc43arow12_col2\" class=\"data row12 col2\" >10</td>\n",
       "            </tr>\n",
       "            <tr>\n",
       "                        <th id=\"T_f71bae8c_4d58_11ec_a18c_28c2dd0cc43alevel0_row13\" class=\"row_heading level0 row13\" >13</th>\n",
       "                        <td id=\"T_f71bae8c_4d58_11ec_a18c_28c2dd0cc43arow13_col0\" class=\"data row13 col0\" >Total core subjects for primary school</td>\n",
       "                        <td id=\"T_f71bae8c_4d58_11ec_a18c_28c2dd0cc43arow13_col1\" class=\"data row13 col1\" >subject_primary</td>\n",
       "                        <td id=\"T_f71bae8c_4d58_11ec_a18c_28c2dd0cc43arow13_col2\" class=\"data row13 col2\" >4</td>\n",
       "            </tr>\n",
       "            <tr>\n",
       "                        <th id=\"T_f71bae8c_4d58_11ec_a18c_28c2dd0cc43alevel0_row14\" class=\"row_heading level0 row14\" >14</th>\n",
       "                        <td id=\"T_f71bae8c_4d58_11ec_a18c_28c2dd0cc43arow14_col0\" class=\"data row14 col0\" >Total core subjects for secondary school</td>\n",
       "                        <td id=\"T_f71bae8c_4d58_11ec_a18c_28c2dd0cc43arow14_col1\" class=\"data row14 col1\" >subject_secondary</td>\n",
       "                        <td id=\"T_f71bae8c_4d58_11ec_a18c_28c2dd0cc43arow14_col2\" class=\"data row14 col2\" >9</td>\n",
       "            </tr>\n",
       "    </tbody></table>"
      ],
      "text/plain": [
       "<pandas.io.formats.style.Styler at 0x117c1fb0>"
      ]
     },
     "execution_count": 13,
     "metadata": {},
     "output_type": "execute_result"
    }
   ],
   "source": [
    "information()"
   ]
  },
  {
   "cell_type": "markdown",
   "metadata": {},
   "source": [
    "## Estimated Revenue\n",
    "\n",
    "1. What is the estimated revenue Edukator can earn from opening in KL Sentral? <br>\n",
    "*Assume students only go to the tuition center(s) within their housing area.*\n",
    "\n",
    "**Formula** <br>\n",
    "Annual Revenue = [(mid_primary(subject_primary x chrge_primary x lesson_time) + mid_secondary(subject_secondary x chrge_secondary x lesson_time)) x 4 x 11] / (competitors+1)"
   ]
  },
  {
   "cell_type": "code",
   "execution_count": 14,
   "metadata": {},
   "outputs": [
    {
     "name": "stdout",
     "output_type": "stream",
     "text": [
      "Assume market share are divided evenly with competitors (Highflyer , Intelligent) \n",
      "Assume student didnt take tuition class during 1 month holidays \n",
      "\u001b[1mCore Subject \u001b[0m \n",
      "Primary school: 4 \n",
      "Secondary school: 9\n",
      "\n",
      "\u001b[1mEstimated Weekly Revenue \u001b[0m \n",
      "If student taking tuition class for all core subjects: $132000 \n",
      "If student taking tuition class for half of core subjects: $66000 \n",
      "If student taking tuition class no more than 1 core subjects: $18000\n",
      "\u001b[1mEstimated Monthly Revenue \u001b[0m \n",
      "If student taking tuition class for all core subjects: $528000 \n",
      "If student taking tuition class for half of core subjects: $264000 \n",
      "If student taking tuition class no more than 1 core subjects: $72000\n",
      "\u001b[1mEstimated Annual Revenue \u001b[0m \n",
      "If student taking tuition class for all core subjects: $5808000 \n",
      "If student taking tuition class for half of core subjects: $2904000 \n",
      "If student taking tuition class no more than 1 core subjects: $792000\n"
     ]
    },
    {
     "data": {
      "image/png": "[encoded data removed]",
      "text/plain": [
       "<Figure size 473.625x360 with 1 Axes>"
      ]
     },
     "metadata": {
      "needs_background": "light"
     },
     "output_type": "display_data"
    }
   ],
   "source": [
    "Estimate()\n",
    "visualize()"
   ]
  },
  {
   "cell_type": "markdown",
   "metadata": {},
   "source": [
    "## Images Insight\n",
    "\n",
    "2. Write down your insight(s) for each of the images below.\n",
    "\n",
    "### Insight - Image 1: Market Share of Edukator\n",
    "\n",
    "1.\tEdukator has the largest market share compared to other tuition services.\n",
    "2.\tEdukator has a 60% market share in terms of number of students.\n",
    "3.\tEducator's total number of lesson hours is also the highest among other tuition services.\n",
    "4.\tEdukator contributed 30% of total hour of lessons.\n",
    "5.\tPotential competitors for Edukator is Excellence, currently is the second highest with 10% of market share and 20% of total hours of lesson.\n",
    "6.\tThe number of student and total hours of lesson show a positive correlation.\n",
    "7.  If Edukator opens a new branch in KL Sentral, it has a high possibility of controlling the market there."
   ]
  },
  {
   "cell_type": "markdown",
   "metadata": {},
   "source": [
    "### Insight - Image 2: Price per Lesson in Comparison to Competitors\n",
    "\n",
    "1.\tThe average or mean price per hour of all tuition services is \\\\$8.17 ≈ \\\\$8.\n",
    "2.\tThe min, median and max are \\\\$6, \\\\$7.5 and \\\\$10, respectively.\n",
    "3.\tThe mode are \\\\$8 and \\\\$10.\n",
    "4.  The standard deviation and variance are \\\\$1.60 and \\\\$2.14, respectively.\n",
    "5.  Edukator average price per hour is equal to the mean value.\n",
    "5.\tEdukator and Highscore have the same average price per hour of \\\\$8.\n",
    "6.\tEdukator's average price per hour is neither too high nor too low in comparison to to other tuition services.\n"
   ]
  },
  {
   "cell_type": "code",
   "execution_count": 15,
   "metadata": {},
   "outputs": [
    {
     "data": {
      "image/png": "[encoded data removed]",
      "text/plain": [
       "<Figure size 1296x1296 with 7 Axes>"
      ]
     },
     "metadata": {
      "needs_background": "light"
     },
     "output_type": "display_data"
    }
   ],
   "source": [
    "classrooms()"
   ]
  },
  {
   "cell_type": "markdown",
   "metadata": {},
   "source": [
    "### Insight - Image 3: Classroom Utilization Rate\n",
    "\n",
    "1.\tThere are no classrooms filled to 80% capacity from 0800 to 1600 Monday through Friday.\n",
    "2.\tThe classrooms are fully utilised on Saturday and Sunday from 1200 to 2200.\n",
    "3.\tStudents are less likely to take classes in the morning during weekdays.\n",
    "4.\tStudents are more likely to take classes in the night during weekdays especially class 2000-2200.\n",
    "5.\tStudents are more likely to take classes during weekend.\n",
    "6.\tThe total number of classrooms filled to 80% capacity in one week is 405.\n",
    "7.  The total number of classrooms filled to 80% capacity in one week is 41% of the total number of classrooms (980).\n",
    "8.  Weekend classes accounted for 64% of the total number of classrooms filled to  80% capacity in one week."
   ]
  },
  {
   "cell_type": "markdown",
   "metadata": {},
   "source": [
    "## Present Value of Edukator After Discount\n",
    "\n",
    "3. With a discount rate of 4% you can capture 80% of the market. What is the present\n",
    "value of Edukator KL Sentral?\n",
    "\n",
    "**Formula** <br>\n",
    "New charge = chrge_primary - 0.04 x chrge_primary and chrge_secondary - 0.04 x chrge_secondary\n",
    "\n",
    "Annual Revenue = market_share x [(mid_primary(subject_primary x new_chrge_primary x lesson_time) + mid_secondary(subject_secondary x new_chrge_secondary x lesson_time)) x 4 x 11]"
   ]
  },
  {
   "cell_type": "code",
   "execution_count": 16,
   "metadata": {},
   "outputs": [
    {
     "name": "stdout",
     "output_type": "stream",
     "text": [
      "\u001b[1mNew charge per hour after discount 4% ($) \u001b[0m \n",
      "Primary School: 4.80 \n",
      "Secondary School: 9.60\n",
      "\n",
      "\u001b[1mThe Present Revenue Value of Edukator KL Sentral (80 percent market share) \u001b[0m \n",
      "If student taking tuition class for all core subjects: $13381632 \n",
      "If student taking tuition class for half of core subjects: $6690816 \n",
      "if student taking tuition class no more than 1 core subjects: $1824768\n"
     ]
    },
    {
     "data": {
      "image/png": "[encoded data removed]",
      "text/plain": [
       "<Figure size 360x360 with 1 Axes>"
      ]
     },
     "metadata": {
      "needs_background": "light"
     },
     "output_type": "display_data"
    }
   ],
   "source": [
    "discount()"
   ]
  },
  {
   "cell_type": "markdown",
   "metadata": {},
   "source": [
    "## Breakeven Time\n",
    "\n",
    "4. What is the breakeven time for this investment based on the annual revenue?\n",
    "Assume the investment to build a new tuition centre is $120M.\n",
    "\n",
    "**Formula** <br>\n",
    "breakeven time = investment/annual revenue"
   ]
  },
  {
   "cell_type": "code",
   "execution_count": 17,
   "metadata": {},
   "outputs": [
    {
     "name": "stdout",
     "output_type": "stream",
     "text": [
      "Investment to build a new tuition centre: $120000000 \n",
      "Annual Revenue of Edukator: $13381632 \n",
      "(Based on answer in question 3) \n",
      "\u001b[1m\n",
      "The breakeven time for this investment based on the annual revenue is 8.97 years or approximately 9 years.\n"
     ]
    }
   ],
   "source": [
    "breakeven()"
   ]
  },
  {
   "cell_type": "markdown",
   "metadata": {},
   "source": [
    "## Explanation\n",
    "\n",
    "5. Based on your answers from questions 1-4, should Edukator expand into KL\n",
    "Sentral? *Please elaborate on your answer.*"
   ]
  },
  {
   "cell_type": "markdown",
   "metadata": {},
   "source": [
    "Based on Edukator's estimated annual revenue from answers 1 and 3, Edukator has a good performance, with a minimum estimated revenue of \\\\$792000 (33 percent market share and students only taking one core subject) and a maximum estimated revenue of \\\\$13381632 (80 percent market share and students takes all core subjects). Based on the insights from answer 2, Edukator has the potential to control the market in KL Sentral based on its current market share performance. Edukator's average price per hour per lesson is also neither too high nor too low in comparison to other tutoring services, making it more likely to be chosen by the middle-income group. However, based on the answer to question 4, Edukator's breakeven time after opening a new branch in KL Sentral is approximately 9 years, which is excessively long. Furthermore, the estimated annual revenue is based on the best performance of controlling 80% of the market share and students taking all core subjects. The standard estimation for a business to be profitable or to reach the point at which total revenue equals total costs or expenses is two to three years. It could take up to 5 years at most. A longer breakeven time indicates that a project is at high risk of failure and can lead to debt accumulation over time, eventually causing a company to go out of business. In conclusion, I believe Edukator should not expand into KL Sentral. For me, the best solution is to reduce the investment in building the new tuition centre so that the breakeven time is reduced and thus lower the risk of failure."
   ]
  },
  {
   "cell_type": "markdown",
   "metadata": {},
   "source": [
    "## Increase Profitability\n",
    "\n",
    "6. Aside from expanding their business to a new location, what other ways can\n",
    "Edukator increase their profitability? *List down your answers in bullet points, no more\n",
    "than 5 points.*\n",
    "\n",
    "● Make use of technology by expanding their business to include online tutoring.<br>\n",
    "● Optimize thier marketing and advertising budget to attract more students.<br>\n",
    "● Increase student admission and provide better tutoring sessions.<br>\n",
    "● Provide additional services such as selling merchandise, renting out unused space, and putting up a coffee stand.<br>\n",
    "● Collaborate with other institutions to reduce costs, improve management, hold events, and expand services.<br>"
   ]
  },
  {
   "cell_type": "markdown",
   "metadata": {},
   "source": [
    "## Motivation\n",
    "\n",
    "7. What motivated you to apply to Teleport?\n",
    "*Please describe it in less than 500 words*\n",
    "\n",
    "After reading the job description for the teleport graduate programme, I believe this is the best path for me to take after graduation. Based on the description, Teleport or generally AirAsia is a company that prioritizes people and their growth by creating a work environment where opportunities to soar to greater heights and learn is endless. I am passionate about learning and developing my potential. This programme will provide me with hands-on experience working with incredible leaders in a variety of fields. My ideal work environment is one that inspires and motivates their employees. I thrive on having the ability to learn from the experiences of others and I find myself working best when I am able to collaborate with others to achieve a mutual goal. Furthermore, Teleport's day-to-day work tasks are compatible with my skills and knowledge, particularly in data analysis. I believe my previous internship experience in data analysis and project management will be beneficial to me.  I hope to be intellectually challenged by my skills and knowledge in the company. Additionally, experience working in a start-up from a big company like AirAsia is good for my resume. I have also noticed the perks and benefits of joining Teleport, such as flight discounts, medical entitlement and more. Finally, if I am accepted into this programme, I hope to be able to further develop my skills, particularly my communication and leadership skills, as well as gain new knowledge and experience."
   ]
  },
  {
   "cell_type": "markdown",
   "metadata": {},
   "source": [
    "## Recently Read Article\n",
    "\n",
    "8. Tell us about a book or article you recently read and\n",
    "tell us why you liked it.\n",
    "*Please describe it in less than 500 words.*\n",
    "\n",
    "I recently came across an article titled​ \"What Does a Data Analyst Do? 2021 Career Guide\" from Coursera which piqued my interest. This article is very well written and informative about the career of a data analyst. The article's content is well-organized, beginning with an explanation of what data analysis is, data analyst tasks and responsibilities, how to become a data analyst, and data analyst career advancement. Reading this article has helped me to improve my fundamental knowledge of data analysis and gain a better understanding of the career path that I have chosen. Furthermore, the article provides a list of skills and tools that are typically required to become a data analyst. I can compare the list to my current skills and tool knowledge, as well as use it to help me target new skills and tools to learn. Knowing that most of my current skills and tool knowledge correspond to most of the skills and tools mentioned in the article motivates and inspires me more to become a data analyst. For my next step, I intend to take the IBM Data Analyst Professional Certificate course. Last but not least, what I like best about this article is that it includes an internal link to another article for further reading, which allows me to learn more about the topics discussed."
   ]
  },
  {
   "cell_type": "code",
   "execution_count": null,
   "metadata": {},
   "outputs": [],
   "source": []
  }
 ],
 "metadata": {
  "kernelspec": {
   "display_name": "Python 3",
   "language": "python",
   "name": "python3"
  },
  "language_info": {
   "codemirror_mode": {
    "name": "ipython",
    "version": 3
   },
   "file_extension": ".py",
   "mimetype": "text/x-python",
   "name": "python",
   "nbconvert_exporter": "python",
   "pygments_lexer": "ipython3",
   "version": "3.7.4"
  }
 },
 "nbformat": 4,
 "nbformat_minor": 4
}
